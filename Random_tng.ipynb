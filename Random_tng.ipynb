{
  "nbformat": 4,
  "nbformat_minor": 0,
  "metadata": {
    "colab": {
      "name": "Random_tng.ipynb",
      "provenance": [],
      "authorship_tag": "ABX9TyNt2a7B9KeFQ/4r+3Kk8YBx",
      "include_colab_link": true
    },
    "kernelspec": {
      "name": "python3",
      "display_name": "Python 3"
    },
    "language_info": {
      "name": "python"
    }
  },
  "cells": [
    {
      "cell_type": "markdown",
      "metadata": {
        "id": "view-in-github",
        "colab_type": "text"
      },
      "source": [
        "<a href=\"https://colab.research.google.com/github/1kkiRen/1kkiRen/blob/main/Random_tng.ipynb\" target=\"_parent\"><img src=\"https://colab.research.google.com/assets/colab-badge.svg\" alt=\"Open In Colab\"/></a>"
      ]
    },
    {
      "cell_type": "code",
      "source": [
        "!pip install tqdm"
      ],
      "metadata": {
        "colab": {
          "base_uri": "https://localhost:8080/"
        },
        "id": "IbvvWM1Ej5av",
        "outputId": "0e0d33c5-e6e5-481f-dffe-9415ab31a08f"
      },
      "execution_count": null,
      "outputs": [
        {
          "output_type": "stream",
          "name": "stdout",
          "text": [
            "Requirement already satisfied: tqdm in /usr/local/lib/python3.7/dist-packages (4.64.0)\n"
          ]
        }
      ]
    },
    {
      "cell_type": "code",
      "source": [
        "from tqdm import tqdm"
      ],
      "metadata": {
        "id": "2lBuawEfj_Nz"
      },
      "execution_count": null,
      "outputs": []
    },
    {
      "cell_type": "code",
      "execution_count": null,
      "metadata": {
        "id": "NEDDSIrPjgV4"
      },
      "outputs": [],
      "source": [
        "f = open(\"text.txt\")\n",
        "\n",
        "n, k  = map(int, f.readline().split())\n",
        "\n",
        "arr = list(map(int, f.readlines()))\n",
        "\n",
        "diction = {'2': 1}\n",
        "\n",
        "res = n\n",
        "\n",
        "for i in tqdm(range(n)):\n",
        "  diction = {}\n",
        "  for j in range(i, i + res):\n",
        "      diction[arr[j]] = 0\n",
        "      if len(diction.keys()) == k:\n",
        "        res = min(res, j - i + 1)\n",
        "        break\n",
        "\n",
        "\n",
        "res\n",
        "\n"
      ]
    },
    {
      "cell_type": "code",
      "source": [
        "f = open(\"text.txt\")\n",
        "\n",
        "\n",
        "# n, M = map(int, f.readline().split())\n",
        "\n",
        "n = int(f.readline())\n",
        "arr = list(map(int, f.readlines()))\n",
        "\n",
        "counter = 0\n",
        "\n",
        "M = 345600\n",
        "\n",
        "for i in tqdm(range(n)):\n",
        "    pr = 1\n",
        "\n",
        "    for j in range(i, n):\n",
        "        if pr * arr[j] % M == 0:\n",
        "            break\n",
        "\n",
        "        else:\n",
        "            counter += 1\n",
        "            pr *= arr[j]\n",
        "\n",
        "print(counter)\n",
        "\n",
        "f.close()"
      ],
      "metadata": {
        "colab": {
          "base_uri": "https://localhost:8080/"
        },
        "id": "8Vpk4eJJoy-j",
        "outputId": "94ab0f51-5354-41bc-af54-dbe35a975b9a"
      },
      "execution_count": null,
      "outputs": [
        {
          "output_type": "stream",
          "name": "stderr",
          "text": [
            "100%|██████████| 206599/206599 [00:01<00:00, 118418.78it/s]"
          ]
        },
        {
          "output_type": "stream",
          "name": "stdout",
          "text": [
            "2523963\n"
          ]
        },
        {
          "output_type": "stream",
          "name": "stderr",
          "text": [
            "\n"
          ]
        }
      ]
    }
  ]
}